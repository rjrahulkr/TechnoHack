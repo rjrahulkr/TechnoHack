{
 "cells": [
  {
   "cell_type": "code",
   "execution_count": 1,
   "id": "cdf3f1b1",
   "metadata": {},
   "outputs": [
    {
     "name": "stdout",
     "output_type": "stream",
     "text": [
      "Collecting forex-python\n",
      "  Downloading forex_python-1.8-py3-none-any.whl (8.2 kB)\n",
      "Requirement already satisfied: pandas in c:\\users\\hp\\anaconda3\\lib\\site-packages (1.5.3)\n",
      "Requirement already satisfied: requests in c:\\users\\hp\\anaconda3\\lib\\site-packages (from forex-python) (2.29.0)\n",
      "Collecting simplejson (from forex-python)\n",
      "  Downloading simplejson-3.19.2-cp311-cp311-win_amd64.whl (75 kB)\n",
      "                                              0.0/75.3 kB ? eta -:--:--\n",
      "                                              0.0/75.3 kB ? eta -:--:--\n",
      "     ----------------                         30.7/75.3 kB ? eta -:--:--\n",
      "     --------------------                   41.0/75.3 kB 393.8 kB/s eta 0:00:01\n",
      "     ------------------------------------   71.7/75.3 kB 491.5 kB/s eta 0:00:01\n",
      "     -------------------------------------- 75.3/75.3 kB 520.8 kB/s eta 0:00:00\n",
      "Requirement already satisfied: python-dateutil>=2.8.1 in c:\\users\\hp\\anaconda3\\lib\\site-packages (from pandas) (2.8.2)\n",
      "Requirement already satisfied: pytz>=2020.1 in c:\\users\\hp\\anaconda3\\lib\\site-packages (from pandas) (2022.7)\n",
      "Requirement already satisfied: numpy>=1.21.0 in c:\\users\\hp\\appdata\\roaming\\python\\python311\\site-packages (from pandas) (1.26.2)\n",
      "Requirement already satisfied: six>=1.5 in c:\\users\\hp\\anaconda3\\lib\\site-packages (from python-dateutil>=2.8.1->pandas) (1.16.0)\n",
      "Requirement already satisfied: charset-normalizer<4,>=2 in c:\\users\\hp\\anaconda3\\lib\\site-packages (from requests->forex-python) (2.0.4)\n",
      "Requirement already satisfied: idna<4,>=2.5 in c:\\users\\hp\\anaconda3\\lib\\site-packages (from requests->forex-python) (3.4)\n",
      "Requirement already satisfied: urllib3<1.27,>=1.21.1 in c:\\users\\hp\\anaconda3\\lib\\site-packages (from requests->forex-python) (1.26.16)\n",
      "Requirement already satisfied: certifi>=2017.4.17 in c:\\users\\hp\\anaconda3\\lib\\site-packages (from requests->forex-python) (2023.5.7)\n",
      "Installing collected packages: simplejson, forex-python\n",
      "Successfully installed forex-python-1.8 simplejson-3.19.2\n",
      "Note: you may need to restart the kernel to use updated packages.\n"
     ]
    }
   ],
   "source": [
    "pip install forex-python pandas"
   ]
  },
  {
   "cell_type": "code",
   "execution_count": 2,
   "id": "9f2520e8",
   "metadata": {},
   "outputs": [
    {
     "name": "stdout",
     "output_type": "stream",
     "text": [
      "Select operation:\n",
      "1. Convert currency\n",
      "2. Get latest exchange rate\n",
      "3. Update exchange rates\n",
      "4. View exchange rates\n",
      "5. Save exchange rates to file\n",
      "0. Exit\n",
      "Enter choice (0-5): 0\n",
      "Exiting the currency converter.\n"
     ]
    }
   ],
   "source": [
    "from forex_python.converter import CurrencyRates, CurrencyCodes\n",
    "import pandas as pd\n",
    "from datetime import datetime\n",
    "\n",
    "class CurrencyConverter:\n",
    "    def __init__(self):\n",
    "        self.c = CurrencyRates()\n",
    "        self.cc = CurrencyCodes()\n",
    "        self.exchange_rates = pd.DataFrame(columns=['Date', 'From_Currency', 'To_Currency', 'Exchange_Rate'])\n",
    "\n",
    "    def convert(self, amount, from_currency, to_currency):\n",
    "        rate = self.c.convert(from_currency, to_currency, amount)\n",
    "        return rate\n",
    "\n",
    "    def get_latest_rate(self, from_currency, to_currency):\n",
    "        rate = self.c.get_rate(from_currency, to_currency)\n",
    "        return rate\n",
    "\n",
    "    def update_exchange_rates(self):\n",
    "        now = datetime.now()\n",
    "        date_str = now.strftime(\"%Y-%m-%d\")\n",
    "        for currency in self.c.get_rates('USD'):\n",
    "            exchange_rate = self.c.get_rate('USD', currency)\n",
    "            self.exchange_rates = self.exchange_rates.append({'Date': date_str, 'From_Currency': 'USD', 'To_Currency': currency, 'Exchange_Rate': exchange_rate}, ignore_index=True)\n",
    "\n",
    "    def view_exchange_rates(self):\n",
    "        print(self.exchange_rates)\n",
    "\n",
    "    def save_exchange_rates_to_file(self, filename):\n",
    "        self.exchange_rates.to_csv(filename, index=False)\n",
    "\n",
    "# Create an instance of CurrencyConverter\n",
    "converter = CurrencyConverter()\n",
    "\n",
    "# Main program loop\n",
    "while True:\n",
    "    print(\"Select operation:\")\n",
    "    print(\"1. Convert currency\")\n",
    "    print(\"2. Get latest exchange rate\")\n",
    "    print(\"3. Update exchange rates\")\n",
    "    print(\"4. View exchange rates\")\n",
    "    print(\"5. Save exchange rates to file\")\n",
    "    print(\"0. Exit\")\n",
    "\n",
    "    choice = input(\"Enter choice (0-5): \")\n",
    "\n",
    "    if choice == '0':\n",
    "        print(\"Exiting the currency converter.\")\n",
    "        break\n",
    "\n",
    "    if choice in ('1', '2', '3', '4', '5'):\n",
    "        if choice == '1':\n",
    "            amount = float(input(\"Enter amount: \"))\n",
    "            from_currency = input(\"Enter from currency (3-letter code): \").upper()\n",
    "            to_currency = input(\"Enter to currency (3-letter code): \").upper()\n",
    "            converted_amount = converter.convert(amount, from_currency, to_currency)\n",
    "            print(f\"Converted amount: {converted_amount:.2f} {to_currency}\")\n",
    "\n",
    "        elif choice == '2':\n",
    "            from_currency = input(\"Enter from currency (3-letter code): \").upper()\n",
    "            to_currency = input(\"Enter to currency (3-letter code): \").upper()\n",
    "            latest_rate = converter.get_latest_rate(from_currency, to_currency)\n",
    "            print(f\"Latest exchange rate: 1 {from_currency} = {latest_rate:.4f} {to_currency}\")\n",
    "\n",
    "        elif choice == '3':\n",
    "            converter.update_exchange_rates()\n",
    "            print(\"Exchange rates updated.\")\n",
    "\n",
    "        elif choice == '4':\n",
    "            converter.view_exchange_rates()\n",
    "\n",
    "        elif choice == '5':\n",
    "            filename = input(\"Enter filename to save: \")\n",
    "            converter.save_exchange_rates_to_file(filename)\n",
    "            print(f\"Exchange rates saved to {filename}\")\n",
    "\n",
    "    else:\n",
    "        print(\"Invalid Input\")"
   ]
  },
  {
   "cell_type": "code",
   "execution_count": null,
   "id": "7752f375",
   "metadata": {},
   "outputs": [],
   "source": []
  }
 ],
 "metadata": {
  "kernelspec": {
   "display_name": "Python 3 (ipykernel)",
   "language": "python",
   "name": "python3"
  },
  "language_info": {
   "codemirror_mode": {
    "name": "ipython",
    "version": 3
   },
   "file_extension": ".py",
   "mimetype": "text/x-python",
   "name": "python",
   "nbconvert_exporter": "python",
   "pygments_lexer": "ipython3",
   "version": "3.11.3"
  }
 },
 "nbformat": 4,
 "nbformat_minor": 5
}
